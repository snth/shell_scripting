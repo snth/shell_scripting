{
 "cells": [
  {
   "cell_type": "markdown",
   "metadata": {},
   "source": [
    "# You suck at shell scripting!\n",
    "\n",
    "You do! You're aweful! You are as bad at shell scripting\n",
    "as Helen Zille is at Twitter. However clever that \n",
    "140 character bash one liner seemed at the time,\n",
    "you know that you regretted it once it became an\n",
    "integral part of your production build pipeline. This\n",
    "talk will show you how to write maintainable\n",
    "Command Line Interfaces with `click` and `pathlib`\n",
    "that won't leave you trying to rewrite your git commit\n",
    "history after the next production server outage.\n"
   ]
  },
  {
   "cell_type": "code",
   "execution_count": null,
   "metadata": {},
   "outputs": [],
   "source": [
    "%%HTML\n",
    "<iframe width=\"560\" height=\"315\" src=\"https://www.youtube.com/embed/U_X5uR7VC4M\" frameborder=\"0\" allowfullscreen></iframe>\n"
   ]
  },
  {
   "cell_type": "markdown",
   "metadata": {},
   "source": [
    "## Aim\n",
    "\n",
    "  * demonstrate\n",
    "      * pathlib\n",
    "      * click\n",
    "  * worked example for file deduplication"
   ]
  },
  {
   "cell_type": "markdown",
   "metadata": {},
   "source": [
    "## shell scripts\n",
    "\n",
    "  * Provide some examples of badly written shell scripts\n",
    "  * Why I've resisted using Python for shell scripting.\n",
    "      * os.path"
   ]
  },
  {
   "cell_type": "markdown",
   "metadata": {},
   "source": [
    "## pathlib\n",
    "\n",
    "Path handling the right way"
   ]
  },
  {
   "cell_type": "code",
   "execution_count": null,
   "metadata": {},
   "outputs": [],
   "source": [
    "from pathlib import Path\n",
    "p = Path('.')\n",
    "p"
   ]
  },
  {
   "cell_type": "code",
   "execution_count": null,
   "metadata": {},
   "outputs": [],
   "source": [
    "print(str(p))\n",
    "print(p.absolute())"
   ]
  },
  {
   "cell_type": "code",
   "execution_count": null,
   "metadata": {},
   "outputs": [],
   "source": [
    "p = p.absolute()\n",
    "print(p.as_posix())"
   ]
  },
  {
   "cell_type": "code",
   "execution_count": null,
   "metadata": {},
   "outputs": [],
   "source": [
    "print(p.as_uri())"
   ]
  },
  {
   "cell_type": "code",
   "execution_count": null,
   "metadata": {},
   "outputs": [],
   "source": [
    "p.is_dir()"
   ]
  },
  {
   "cell_type": "code",
   "execution_count": null,
   "metadata": {},
   "outputs": [],
   "source": [
    "p.is_file()"
   ]
  },
  {
   "cell_type": "code",
   "execution_count": null,
   "metadata": {},
   "outputs": [],
   "source": [
    "p.parent"
   ]
  },
  {
   "cell_type": "code",
   "execution_count": null,
   "metadata": {},
   "outputs": [],
   "source": [
    "p.relative_to(p.parent)"
   ]
  },
  {
   "cell_type": "code",
   "execution_count": null,
   "metadata": {},
   "outputs": [],
   "source": [
    "# subdirectories\n",
    "[x for x in p.iterdir() if x.is_dir()]"
   ]
  },
  {
   "cell_type": "code",
   "execution_count": null,
   "metadata": {},
   "outputs": [],
   "source": [
    "# files\n",
    "[x for x in p.iterdir() if x.is_file()]"
   ]
  },
  {
   "cell_type": "code",
   "execution_count": null,
   "metadata": {},
   "outputs": [],
   "source": [
    "list(p.rglob('*.ipynb'))"
   ]
  },
  {
   "cell_type": "code",
   "execution_count": null,
   "metadata": {},
   "outputs": [],
   "source": [
    "p = Path('.') / 'newdir'\n",
    "p"
   ]
  },
  {
   "cell_type": "code",
   "execution_count": null,
   "metadata": {},
   "outputs": [],
   "source": [
    "p.exists()"
   ]
  },
  {
   "cell_type": "code",
   "execution_count": null,
   "metadata": {
    "collapsed": true
   },
   "outputs": [],
   "source": [
    "p.mkdir()"
   ]
  },
  {
   "cell_type": "code",
   "execution_count": null,
   "metadata": {},
   "outputs": [],
   "source": [
    "p.exists()"
   ]
  },
  {
   "cell_type": "code",
   "execution_count": null,
   "metadata": {},
   "outputs": [],
   "source": [
    "q = p / 'newfile.txt'\n",
    "q"
   ]
  },
  {
   "cell_type": "code",
   "execution_count": null,
   "metadata": {
    "collapsed": true
   },
   "outputs": [],
   "source": [
    "with q.open('wt') as f:\n",
    "    f.write('The quick brown fox jumped over the lazy dog.')"
   ]
  },
  {
   "cell_type": "code",
   "execution_count": null,
   "metadata": {},
   "outputs": [],
   "source": [
    "q.exists() and q.is_file()"
   ]
  },
  {
   "cell_type": "code",
   "execution_count": null,
   "metadata": {},
   "outputs": [],
   "source": [
    "q.read_text()"
   ]
  },
  {
   "cell_type": "code",
   "execution_count": null,
   "metadata": {},
   "outputs": [],
   "source": [
    "q.unlink()"
   ]
  },
  {
   "cell_type": "code",
   "execution_count": null,
   "metadata": {},
   "outputs": [],
   "source": [
    "q.exists()"
   ]
  },
  {
   "cell_type": "code",
   "execution_count": null,
   "metadata": {
    "collapsed": true
   },
   "outputs": [],
   "source": [
    "p.rmdir()"
   ]
  },
  {
   "cell_type": "code",
   "execution_count": null,
   "metadata": {},
   "outputs": [],
   "source": [
    "p.exists()"
   ]
  },
  {
   "cell_type": "markdown",
   "metadata": {},
   "source": [
    "# CLIs\n",
    "\n",
    "  * 40 years of bad branding as **Command Line Intefaces**\n",
    "  * Who knows what that is?\n",
    "  * Rebrand as _\"Chatbot Like Interface\"_"
   ]
  },
  {
   "cell_type": "markdown",
   "metadata": {},
   "source": [
    "## Click \n",
    "\n",
    "  * **\"Command Line Interface Creation Kit\"** or \n",
    "  * **\"Chatbot Like Interface Creation Kit\"**?\n",
    "\n",
    "Beautiful CLI APIs\n",
    "  * automatic help page generation\n",
    "  * parameter validation\n",
    "  * arbitrary nesting of commands\n",
    "  * supports lazy loading of subcommands at runtime"
   ]
  },
  {
   "cell_type": "code",
   "execution_count": null,
   "metadata": {},
   "outputs": [],
   "source": [
    "%%HTML\n",
    "<iframe width=\"1024\" height=\"400\" src=\"http://click.pocoo.org/5/\"></iframe>"
   ]
  },
  {
   "cell_type": "markdown",
   "metadata": {},
   "source": [
    "### To cover\n",
    "  \n",
    "* arguments vs options\n",
    "* parameter types"
   ]
  },
  {
   "cell_type": "markdown",
   "metadata": {},
   "source": [
    "### Basic example"
   ]
  },
  {
   "cell_type": "markdown",
   "metadata": {},
   "source": [
    "```python\n",
    "# %load hello.py\n",
    "import click\n",
    "\n",
    "@click.command()\n",
    "@click.option('--count', default=1, help='Number of greetings.')\n",
    "@click.option('--name', prompt='Your name', help='The person to greet.')\n",
    "def hello(count, name):\n",
    "    \"\"\"Simple program that greets NAME for a total of COUNT times.\"\"\"\n",
    "    for x in range(count):\n",
    "        click.echo('Hello {}!'.format(name))\n",
    "\n",
    "if __name__=='__main__':\n",
    "    hello()\n",
    "```"
   ]
  },
  {
   "cell_type": "code",
   "execution_count": 37,
   "metadata": {},
   "outputs": [
    {
     "name": "stdout",
     "output_type": "stream",
     "text": [
      "Hello Tobias!\n",
      "Hello Tobias!\n",
      "Hello Tobias!\n"
     ]
    }
   ],
   "source": [
    "!python hello.py --name Tobias --count 3"
   ]
  },
  {
   "cell_type": "markdown",
   "metadata": {},
   "source": [
    "## Extended example"
   ]
  },
  {
   "cell_type": "code",
   "execution_count": 38,
   "metadata": {
    "collapsed": true
   },
   "outputs": [],
   "source": [
    "# %load ysass.py"
   ]
  },
  {
   "cell_type": "code",
   "execution_count": 54,
   "metadata": {},
   "outputs": [
    {
     "data": {
      "text/plain": [
       "12"
      ]
     },
     "execution_count": 54,
     "metadata": {},
     "output_type": "execute_result"
    }
   ],
   "source": [
    "Path('file1.txt').write_text('Hello world!')\n",
    "Path('file2.txt').write_text('Hello world!')"
   ]
  },
  {
   "cell_type": "code",
   "execution_count": 60,
   "metadata": {},
   "outputs": [
    {
     "name": "stdout",
     "output_type": "stream",
     "text": [
      "Usage: ysass.py [OPTIONS] COMMAND1 [ARGS]... [COMMAND2 [ARGS]...]...\n",
      "\n",
      "Options:\n",
      "  --help  Show this message and exit.\n",
      "\n",
      "Commands:\n",
      "  digests  Generate the digests for all files in a path\n",
      "  show\n"
     ]
    }
   ],
   "source": [
    "!python ysass.py"
   ]
  },
  {
   "cell_type": "code",
   "execution_count": 72,
   "metadata": {},
   "outputs": [
    {
     "name": "stdout",
     "output_type": "stream",
     "text": [
      "e49c605a34d57cf04b7e528f0181f2b4 .gitignore\n",
      "86fb269d190d2c85f6e0468ceca42a20 file1.txt\n",
      "86fb269d190d2c85f6e0468ceca42a20 file2.txt\n",
      "3d7b352884196e284b5e8a2707be7ef3 hello.py\n",
      "0f311c476d22dcb4b0085675a79d717b SAFA-2017.ipynb\n",
      "77301da323346c17475a74d0d2bf7d47 You suck at shell scripting.ipynb\n",
      "1296fe6cf607e831f9246dd9c174640d ysass.py\n"
     ]
    }
   ],
   "source": [
    "!python ysass.py digests show"
   ]
  },
  {
   "cell_type": "code",
   "execution_count": 67,
   "metadata": {},
   "outputs": [
    {
     "name": "stdout",
     "output_type": "stream",
     "text": [
      "Usage: ysass.py digests [OPTIONS]\n",
      "\n",
      "  Generate the digests for all files in a path\n",
      "\n",
      "Options:\n",
      "  -h, --hash-type [md5|sha1]\n",
      "  -p, --path DIRECTORY\n",
      "  --help                      Show this message and exit.\n"
     ]
    }
   ],
   "source": [
    "!python ysass.py digests --help"
   ]
  },
  {
   "cell_type": "code",
   "execution_count": 69,
   "metadata": {},
   "outputs": [
    {
     "name": "stderr",
     "output_type": "stream",
     "text": [
      "Usage: ysass.py digests [OPTIONS]\n",
      "\n",
      "Error: Invalid value for \"-p\" / \"--path\": Directory \"file1.txt\" is a file.\n"
     ]
    }
   ],
   "source": [
    "!python ysass.py digests -p file1.txt show"
   ]
  },
  {
   "cell_type": "code",
   "execution_count": 68,
   "metadata": {},
   "outputs": [
    {
     "name": "stdout",
     "output_type": "stream",
     "text": [
      "3b78bdedca59dc7ab66176f235b8b56fc9888d0f .gitignore\n",
      "d3486ae9136e7856bc42212385ea797094475802 file1.txt\n",
      "d3486ae9136e7856bc42212385ea797094475802 file2.txt\n",
      "69c289606a5b6159c490458dcd4139dd5f0faf8b hello.py\n",
      "5fd2b64ca38b06f02a0203aca74d4a6bb08f8648 SAFA-2017.ipynb\n",
      "aa356c56cf28d8e265f165e76497f1e4e9f08549 You suck at shell scripting.ipynb\n",
      "a838d6e8e2c6f918c4071abe115be68d44606724 ysass.py\n"
     ]
    }
   ],
   "source": [
    "!python ysass.py digests -h sha1 show"
   ]
  },
  {
   "cell_type": "code",
   "execution_count": 70,
   "metadata": {},
   "outputs": [
    {
     "name": "stderr",
     "output_type": "stream",
     "text": [
      "Usage: ysass.py digests [OPTIONS]\n",
      "\n",
      "Error: Invalid value for \"--hash-type\" / \"-h\": invalid choice: sha256. (choose from md5, sha1)\n"
     ]
    }
   ],
   "source": [
    "!python ysass.py digests -h sha256 show"
   ]
  },
  {
   "cell_type": "markdown",
   "metadata": {
    "collapsed": true
   },
   "source": [
    "## setuptools integration"
   ]
  },
  {
   "cell_type": "code",
   "execution_count": null,
   "metadata": {
    "collapsed": true
   },
   "outputs": [],
   "source": []
  }
 ],
 "metadata": {
  "kernelspec": {
   "display_name": "Python 3",
   "language": "python",
   "name": "python3"
  },
  "language_info": {
   "codemirror_mode": {
    "name": "ipython",
    "version": 3
   },
   "file_extension": ".py",
   "mimetype": "text/x-python",
   "name": "python",
   "nbconvert_exporter": "python",
   "pygments_lexer": "ipython3",
   "version": "3.6.0"
  }
 },
 "nbformat": 4,
 "nbformat_minor": 2
}
